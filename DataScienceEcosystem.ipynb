{
 "cells": [
  {
   "cell_type": "markdown",
   "id": "c917b877-64e7-4ed3-af74-24fd57f0643a",
   "metadata": {},
   "source": [
    "# Data Science Tools and Ecosystem"
   ]
  },
  {
   "cell_type": "markdown",
   "id": "255ca3aa-c6a3-4eb9-933c-b75261e5048a",
   "metadata": {},
   "source": [
    "In this notebook, Data Science Tools and Ecosystem are summarized."
   ]
  },
  {
   "cell_type": "markdown",
   "id": "2e6f3275-8f7e-4021-bb51-9fdb5493a4f1",
   "metadata": {},
   "source": [
    "**Objectives:**\n",
    "* List popular languages for Data Science\n",
    "* List of libraries used by Data Scientists\n",
    "* Table of Data Science Tools"
   ]
  },
  {
   "cell_type": "markdown",
   "id": "f8c6ebc5-bc23-4405-9cc8-534bac5b7bd8",
   "metadata": {},
   "source": [
    "Some of the popular languages that Data Scientists use are:\n",
    "1. Python\n",
    "1. SQL\n",
    "1. R"
   ]
  },
  {
   "cell_type": "markdown",
   "id": "f37e25db-2cb0-4cb9-9f72-873cbc6045a4",
   "metadata": {},
   "source": [
    "Some of the commonly used libraries used by Data Scientists include:\n",
    "1. Pandas\n",
    "1. NumPy\n",
    "1. TensorFlow"
   ]
  },
  {
   "cell_type": "markdown",
   "id": "005ab2e5-9ab9-435b-aa58-84520c2c6e78",
   "metadata": {},
   "source": [
    "|Data Science Tools|\n",
    "| ------ |\n",
    "| RStudio |\n",
    "| Apache Hadoop |\n",
    "| TensorFlow |"
   ]
  },
  {
   "cell_type": "markdown",
   "id": "23144346-c13c-4f41-81e6-982f0958dad5",
   "metadata": {},
   "source": [
    "### Below are a few examples of evaluating arithmetic expressions in Python"
   ]
  },
  {
   "cell_type": "code",
   "execution_count": 6,
   "id": "bbf36b4b-5ddf-415c-80d4-e49695dcd116",
   "metadata": {},
   "outputs": [
    {
     "data": {
      "text/plain": [
       "17"
      ]
     },
     "execution_count": 6,
     "metadata": {},
     "output_type": "execute_result"
    }
   ],
   "source": [
    "# This a simple arithmetic expression to mutiply then add integers\n",
    "(3*4)+5"
   ]
  },
  {
   "cell_type": "code",
   "execution_count": 7,
   "id": "a93a6a67-c101-4340-9aba-9990a7a30fd6",
   "metadata": {},
   "outputs": [
    {
     "data": {
      "text/plain": [
       "3.3333333333333335"
      ]
     },
     "execution_count": 7,
     "metadata": {},
     "output_type": "execute_result"
    }
   ],
   "source": [
    "# This will convert 200 minutes to hours by diving by 60\n",
    "200/60"
   ]
  },
  {
   "cell_type": "markdown",
   "id": "b0db540a-0140-4ed1-9250-cb7326795b77",
   "metadata": {},
   "source": [
    "## Author\n",
    "Teran Oung"
   ]
  }
 ],
 "metadata": {
  "kernelspec": {
   "display_name": "Python",
   "language": "python",
   "name": "conda-env-python-py"
  },
  "language_info": {
   "codemirror_mode": {
    "name": "ipython",
    "version": 3
   },
   "file_extension": ".py",
   "mimetype": "text/x-python",
   "name": "python",
   "nbconvert_exporter": "python",
   "pygments_lexer": "ipython3",
   "version": "3.7.12"
  }
 },
 "nbformat": 4,
 "nbformat_minor": 5
}
